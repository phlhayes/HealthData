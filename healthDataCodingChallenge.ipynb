{
 "cells": [
  {
   "cell_type": "markdown",
   "metadata": {},
   "source": [
    "# Analysis"
   ]
  },
  {
   "cell_type": "code",
   "execution_count": 1,
   "metadata": {
    "collapsed": true
   },
   "outputs": [],
   "source": [
    "import pandas as pd"
   ]
  },
  {
   "cell_type": "code",
   "execution_count": 2,
   "metadata": {
    "collapsed": false
   },
   "outputs": [
    {
     "data": {
      "text/html": [
       "<div>\n",
       "<table border=\"1\" class=\"dataframe\">\n",
       "  <thead>\n",
       "    <tr style=\"text-align: right;\">\n",
       "      <th></th>\n",
       "      <th>Diagnosis_Date</th>\n",
       "      <th>Diagnosis_Code</th>\n",
       "      <th>Diagnosis</th>\n",
       "    </tr>\n",
       "    <tr>\n",
       "      <th>Patient_ID</th>\n",
       "      <th></th>\n",
       "      <th></th>\n",
       "      <th></th>\n",
       "    </tr>\n",
       "  </thead>\n",
       "  <tbody>\n",
       "    <tr>\n",
       "      <th>2038</th>\n",
       "      <td>2010-01-21</td>\n",
       "      <td>174.9</td>\n",
       "      <td>Breast Cancer</td>\n",
       "    </tr>\n",
       "    <tr>\n",
       "      <th>2120</th>\n",
       "      <td>2010-01-09</td>\n",
       "      <td>174.1</td>\n",
       "      <td>Breast Cancer</td>\n",
       "    </tr>\n",
       "  </tbody>\n",
       "</table>\n",
       "</div>"
      ],
      "text/plain": [
       "           Diagnosis_Date  Diagnosis_Code      Diagnosis\n",
       "Patient_ID                                              \n",
       "2038           2010-01-21           174.9  Breast Cancer\n",
       "2120           2010-01-09           174.1  Breast Cancer"
      ]
     },
     "execution_count": 2,
     "metadata": {},
     "output_type": "execute_result"
    }
   ],
   "source": [
    "patient_diagnosis = pd.DataFrame.from_csv(\"Patient_Diagnosis.csv\")\n",
    "patient_diagnosis.head(2)"
   ]
  },
  {
   "cell_type": "code",
   "execution_count": 3,
   "metadata": {
    "collapsed": false
   },
   "outputs": [
    {
     "data": {
      "text/html": [
       "<div>\n",
       "<table border=\"1\" class=\"dataframe\">\n",
       "  <thead>\n",
       "    <tr style=\"text-align: right;\">\n",
       "      <th></th>\n",
       "      <th>Treatment_Date</th>\n",
       "      <th>Drug_Code</th>\n",
       "    </tr>\n",
       "    <tr>\n",
       "      <th>Patient_ID</th>\n",
       "      <th></th>\n",
       "      <th></th>\n",
       "    </tr>\n",
       "  </thead>\n",
       "  <tbody>\n",
       "    <tr>\n",
       "      <th>2038</th>\n",
       "      <td>2010-02-14</td>\n",
       "      <td>201</td>\n",
       "    </tr>\n",
       "    <tr>\n",
       "      <th>2038</th>\n",
       "      <td>2010-02-21</td>\n",
       "      <td>201</td>\n",
       "    </tr>\n",
       "  </tbody>\n",
       "</table>\n",
       "</div>"
      ],
      "text/plain": [
       "           Treatment_Date  Drug_Code\n",
       "Patient_ID                          \n",
       "2038           2010-02-14        201\n",
       "2038           2010-02-21        201"
      ]
     },
     "execution_count": 3,
     "metadata": {},
     "output_type": "execute_result"
    }
   ],
   "source": [
    "patient_treatment = pd.DataFrame.from_csv(\"Patient_Treatment.csv\")\n",
    "patient_treatment.head(2)"
   ]
  },
  {
   "cell_type": "markdown",
   "metadata": {},
   "source": [
    "### 1.  How many patients does the clinic have for each cancer diagnosis?\n",
    "Time: 3 minutes"
   ]
  },
  {
   "cell_type": "code",
   "execution_count": 220,
   "metadata": {
    "collapsed": false
   },
   "outputs": [
    {
     "name": "stdout",
     "output_type": "stream",
     "text": [
      "Total Patients:  37\n"
     ]
    }
   ],
   "source": [
    "print \"Total Patients: \", len(patient_diagnosis.index.unique())"
   ]
  },
  {
   "cell_type": "code",
   "execution_count": 221,
   "metadata": {
    "collapsed": false
   },
   "outputs": [
    {
     "name": "stdout",
     "output_type": "stream",
     "text": [
      "Unique Patients per Cancer Diagnosis: \n"
     ]
    },
    {
     "data": {
      "text/plain": [
       "Diagnosis\n",
       "Breast Cancer    26\n",
       "Colon Cancer     12\n",
       "Name: Patient_ID, dtype: int64"
      ]
     },
     "execution_count": 221,
     "metadata": {},
     "output_type": "execute_result"
    }
   ],
   "source": [
    "print \"Unique Patients per Cancer Diagnosis: \"\n",
    "patient_diagnosis.reset_index().groupby(\"Diagnosis\").Patient_ID.nunique()"
   ]
  },
  {
   "cell_type": "code",
   "execution_count": 222,
   "metadata": {
    "collapsed": false
   },
   "outputs": [
    {
     "name": "stdout",
     "output_type": "stream",
     "text": [
      "Unique Patients per Cancer Diagnosis Code: \n"
     ]
    },
    {
     "data": {
      "text/plain": [
       "Diagnosis_Code\n",
       "153.3     2\n",
       "153.4     3\n",
       "153.5     2\n",
       "153.6     1\n",
       "153.7     1\n",
       "153.8     1\n",
       "153.9     2\n",
       "174.1     4\n",
       "174.2     1\n",
       "174.3     2\n",
       "174.4     1\n",
       "174.5     2\n",
       "174.6     1\n",
       "174.7     2\n",
       "174.8     3\n",
       "174.9    10\n",
       "Name: Patient_ID, dtype: int64"
      ]
     },
     "execution_count": 222,
     "metadata": {},
     "output_type": "execute_result"
    }
   ],
   "source": [
    "print \"Unique Patients per Cancer Diagnosis Code: \"\n",
    "patient_diagnosis.reset_index().groupby(\"Diagnosis_Code\").Patient_ID.nunique()"
   ]
  },
  {
   "cell_type": "markdown",
   "metadata": {},
   "source": [
    "### 2.  How long after being diagnosed does it take for a patient to start treatment?  Do any patients start treatment before being diagnosed?\n",
    "\n",
    "This involved determining the time between diagnosis and the first treatment date for each patient and then taking an average. For the second question I looked for treatment dates that happened before diagnosis dates.\n",
    "\n",
    "Time: 10 minutes"
   ]
  },
  {
   "cell_type": "code",
   "execution_count": 223,
   "metadata": {
    "collapsed": false
   },
   "outputs": [
    {
     "data": {
      "text/html": [
       "<div>\n",
       "<table border=\"1\" class=\"dataframe\">\n",
       "  <thead>\n",
       "    <tr style=\"text-align: right;\">\n",
       "      <th></th>\n",
       "      <th>Diagnosis_Date</th>\n",
       "      <th>Diagnosis_Code</th>\n",
       "      <th>Diagnosis</th>\n",
       "      <th>Treatment_Date</th>\n",
       "      <th>Drug_Code</th>\n",
       "      <th>Days_Btwn_Diagnosis_Treatment</th>\n",
       "    </tr>\n",
       "    <tr>\n",
       "      <th>Patient_ID</th>\n",
       "      <th></th>\n",
       "      <th></th>\n",
       "      <th></th>\n",
       "      <th></th>\n",
       "      <th></th>\n",
       "      <th></th>\n",
       "    </tr>\n",
       "  </thead>\n",
       "  <tbody>\n",
       "    <tr>\n",
       "      <th>2038</th>\n",
       "      <td>2010-01-21</td>\n",
       "      <td>174.9</td>\n",
       "      <td>Breast Cancer</td>\n",
       "      <td>2010-02-14</td>\n",
       "      <td>201</td>\n",
       "      <td>24</td>\n",
       "    </tr>\n",
       "    <tr>\n",
       "      <th>2038</th>\n",
       "      <td>2010-01-21</td>\n",
       "      <td>174.9</td>\n",
       "      <td>Breast Cancer</td>\n",
       "      <td>2010-02-21</td>\n",
       "      <td>201</td>\n",
       "      <td>31</td>\n",
       "    </tr>\n",
       "  </tbody>\n",
       "</table>\n",
       "</div>"
      ],
      "text/plain": [
       "           Diagnosis_Date  Diagnosis_Code      Diagnosis Treatment_Date  \\\n",
       "Patient_ID                                                                \n",
       "2038           2010-01-21           174.9  Breast Cancer     2010-02-14   \n",
       "2038           2010-01-21           174.9  Breast Cancer     2010-02-21   \n",
       "\n",
       "            Drug_Code  Days_Btwn_Diagnosis_Treatment  \n",
       "Patient_ID                                            \n",
       "2038              201                             24  \n",
       "2038              201                             31  "
      ]
     },
     "execution_count": 223,
     "metadata": {},
     "output_type": "execute_result"
    }
   ],
   "source": [
    "patient_composite = patient_diagnosis.join(patient_treatment)\n",
    "\n",
    "# Change types of date columns to datetime\n",
    "patient_composite['Treatment_Date'] = pd.to_datetime(patient_composite['Treatment_Date'], format='%Y-%m-%d')\n",
    "patient_composite['Diagnosis_Date'] = pd.to_datetime(patient_composite['Diagnosis_Date'], format='%Y-%m-%d')\n",
    "\n",
    "# Add Time Between Diagnosis / Treatment\n",
    "patient_composite[\"Days_Btwn_Diagnosis_Treatment\"] = (patient_composite[\"Treatment_Date\"] - \n",
    "                                                      patient_composite[\"Diagnosis_Date\"]).astype('timedelta64[D]')\n",
    "patient_composite.head(2)"
   ]
  },
  {
   "cell_type": "code",
   "execution_count": 224,
   "metadata": {
    "collapsed": false
   },
   "outputs": [
    {
     "name": "stdout",
     "output_type": "stream",
     "text": [
      "For a patient who receives treatment, it takes an average of 26.9 days to begin treatment.\n"
     ]
    }
   ],
   "source": [
    "patient_composite_distinct_treatment_start = patient_composite.reset_index().groupby(\"Patient_ID\").min()\n",
    "treatment_days = patient_composite_distinct_treatment_start[\"Days_Btwn_Diagnosis_Treatment\"].mean()\n",
    "print \"For a patient who receives treatment, it takes an average of {n} days to begin treatment.\".format(n=round(treatment_days,1))\n"
   ]
  },
  {
   "cell_type": "code",
   "execution_count": 225,
   "metadata": {
    "collapsed": false
   },
   "outputs": [
    {
     "name": "stdout",
     "output_type": "stream",
     "text": [
      "2 Patients started treatment before diagnosis: [4374, 6877]\n"
     ]
    }
   ],
   "source": [
    "treatment_before_diagnosis = patient_composite[patient_composite[\"Days_Btwn_Diagnosis_Treatment\"] < 0]\n",
    "patients_treatment_before = list(treatment_before_diagnosis.index.unique())\n",
    "print \"{n} Patients started treatment before diagnosis: {patients}\".format(n=len(patients_treatment_before), \n",
    "                                                                       patients = patients_treatment_before) "
   ]
  },
  {
   "cell_type": "markdown",
   "metadata": {},
   "source": [
    "### 3.  Is there a difference between Drug 201 and Drug 202 in terms of length of treatment?\n",
    "\n",
    "I looked at the first and final treatment day, grouped by patient and drug. \n",
    "Then I took the average of the differences between the final and first treatment day.\n",
    "\n",
    "Time: 10 minutes"
   ]
  },
  {
   "cell_type": "code",
   "execution_count": 226,
   "metadata": {
    "collapsed": false
   },
   "outputs": [
    {
     "name": "stdout",
     "output_type": "stream",
     "text": [
      "Treatment with drug 201 takes approximately 61 days longer on average. \n",
      "\n",
      "Average length of treatment (in days): \n"
     ]
    },
    {
     "data": {
      "text/plain": [
       "Drug_Code\n",
       "201    72.000000\n",
       "202    10.769231\n",
       "Name: treatment_time, dtype: float64"
      ]
     },
     "execution_count": 226,
     "metadata": {},
     "output_type": "execute_result"
    }
   ],
   "source": [
    "print \"Treatment with drug 201 takes approximately 61 days longer on average. \\n\"\n",
    "print \"Average length of treatment (in days): \"\n",
    "patient_composite_treatment_max_min = patient_composite.reset_index().groupby([\"Patient_ID\",\"Drug_Code\"]).agg(['max','min'])[\"Days_Btwn_Diagnosis_Treatment\"]\n",
    "patient_composite_treatment_max_min[\"treatment_time\"] = patient_composite_treatment_max_min[\"max\"] - patient_composite_treatment_max_min[\"min\"]\n",
    "patient_composite_treatment_max_min.reset_index().groupby(\"Drug_Code\").mean()[\"treatment_time\"]"
   ]
  }
 ],
 "metadata": {
  "kernelspec": {
   "display_name": "Python 2",
   "language": "python",
   "name": "python2"
  },
  "language_info": {
   "codemirror_mode": {
    "name": "ipython",
    "version": 2
   },
   "file_extension": ".py",
   "mimetype": "text/x-python",
   "name": "python",
   "nbconvert_exporter": "python",
   "pygments_lexer": "ipython2",
   "version": "2.7.10"
  }
 },
 "nbformat": 4,
 "nbformat_minor": 0
}
